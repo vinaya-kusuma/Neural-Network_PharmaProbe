{
  "cells": [
    {
      "cell_type": "code",
      "execution_count": null,
      "metadata": {
        "colab": {
          "base_uri": "https://localhost:8080/"
        },
        "id": "Wi1lixiZDcpm",
        "outputId": "3291c8e2-e722-407e-943d-29120a133cfe"
      },
      "outputs": [
        {
          "name": "stdout",
          "output_type": "stream",
          "text": [
            "Requirement already satisfied: pandas in /usr/local/lib/python3.10/dist-packages (1.5.3)\n",
            "Requirement already satisfied: openai in /usr/local/lib/python3.10/dist-packages (0.28.0)\n",
            "Requirement already satisfied: requests in /usr/local/lib/python3.10/dist-packages (2.31.0)\n",
            "Requirement already satisfied: python-dateutil>=2.8.1 in /usr/local/lib/python3.10/dist-packages (from pandas) (2.8.2)\n",
            "Requirement already satisfied: pytz>=2020.1 in /usr/local/lib/python3.10/dist-packages (from pandas) (2023.4)\n",
            "Requirement already satisfied: numpy>=1.21.0 in /usr/local/lib/python3.10/dist-packages (from pandas) (1.25.2)\n",
            "Requirement already satisfied: tqdm in /usr/local/lib/python3.10/dist-packages (from openai) (4.66.2)\n",
            "Requirement already satisfied: aiohttp in /usr/local/lib/python3.10/dist-packages (from openai) (3.9.3)\n",
            "Requirement already satisfied: charset-normalizer<4,>=2 in /usr/local/lib/python3.10/dist-packages (from requests) (3.3.2)\n",
            "Requirement already satisfied: idna<4,>=2.5 in /usr/local/lib/python3.10/dist-packages (from requests) (3.6)\n",
            "Requirement already satisfied: urllib3<3,>=1.21.1 in /usr/local/lib/python3.10/dist-packages (from requests) (2.0.7)\n",
            "Requirement already satisfied: certifi>=2017.4.17 in /usr/local/lib/python3.10/dist-packages (from requests) (2024.2.2)\n",
            "Requirement already satisfied: six>=1.5 in /usr/local/lib/python3.10/dist-packages (from python-dateutil>=2.8.1->pandas) (1.16.0)\n",
            "Requirement already satisfied: aiosignal>=1.1.2 in /usr/local/lib/python3.10/dist-packages (from aiohttp->openai) (1.3.1)\n",
            "Requirement already satisfied: attrs>=17.3.0 in /usr/local/lib/python3.10/dist-packages (from aiohttp->openai) (23.2.0)\n",
            "Requirement already satisfied: frozenlist>=1.1.1 in /usr/local/lib/python3.10/dist-packages (from aiohttp->openai) (1.4.1)\n",
            "Requirement already satisfied: multidict<7.0,>=4.5 in /usr/local/lib/python3.10/dist-packages (from aiohttp->openai) (6.0.5)\n",
            "Requirement already satisfied: yarl<2.0,>=1.0 in /usr/local/lib/python3.10/dist-packages (from aiohttp->openai) (1.9.4)\n",
            "Requirement already satisfied: async-timeout<5.0,>=4.0 in /usr/local/lib/python3.10/dist-packages (from aiohttp->openai) (4.0.3)\n",
            "Requirement already satisfied: tqdm in /usr/local/lib/python3.10/dist-packages (4.66.2)\n",
            "Requirement already satisfied: python-docx in /usr/local/lib/python3.10/dist-packages (1.1.0)\n",
            "Requirement already satisfied: lxml>=3.1.0 in /usr/local/lib/python3.10/dist-packages (from python-docx) (4.9.4)\n",
            "Requirement already satisfied: typing-extensions in /usr/local/lib/python3.10/dist-packages (from python-docx) (4.9.0)\n"
          ]
        }
      ],
      "source": [
        "# Used to access the openai API and send requests to it\n",
        "!pip install pandas openai requests\n",
        "# Used to create a progress tracker while the API calls are being made\n",
        "!pip install tqdm\n",
        "# Used to output the results to Word format\n",
        "!pip install python-docx"
      ]
    },
    {
      "cell_type": "code",
      "execution_count": null,
      "metadata": {
        "id": "GLd00Vh4Do6v"
      },
      "outputs": [],
      "source": [
        "# Import all the dependencies\n",
        "import os\n",
        "import pandas as pd\n",
        "import openai\n",
        "import requests\n",
        "from tqdm import tqdm\n",
        "import time\n",
        "import docx\n",
        "\n",
        "# Set up the OpenAI API Key\n",
        "openai.api_key = \"OPENAI-API-KEY\"\n",
        "GPT_API_URL = \"https://api.openai.com/v1/chat/completions\""
      ]
    },
    {
      "cell_type": "code",
      "execution_count": null,
      "metadata": {
        "colab": {
          "base_uri": "https://localhost:8080/"
        },
        "id": "yqMcV1NNG9oK",
        "outputId": "948ddbd0-f0fc-4bbd-d0ff-a1aa1e5972ac"
      },
      "outputs": [
        {
          "name": "stdout",
          "output_type": "stream",
          "text": [
            "Requirement already satisfied: openai==0.28 in /usr/local/lib/python3.10/dist-packages (0.28.0)\n",
            "Requirement already satisfied: requests>=2.20 in /usr/local/lib/python3.10/dist-packages (from openai==0.28) (2.31.0)\n",
            "Requirement already satisfied: tqdm in /usr/local/lib/python3.10/dist-packages (from openai==0.28) (4.66.2)\n",
            "Requirement already satisfied: aiohttp in /usr/local/lib/python3.10/dist-packages (from openai==0.28) (3.9.3)\n",
            "Requirement already satisfied: charset-normalizer<4,>=2 in /usr/local/lib/python3.10/dist-packages (from requests>=2.20->openai==0.28) (3.3.2)\n",
            "Requirement already satisfied: idna<4,>=2.5 in /usr/local/lib/python3.10/dist-packages (from requests>=2.20->openai==0.28) (3.6)\n",
            "Requirement already satisfied: urllib3<3,>=1.21.1 in /usr/local/lib/python3.10/dist-packages (from requests>=2.20->openai==0.28) (2.0.7)\n",
            "Requirement already satisfied: certifi>=2017.4.17 in /usr/local/lib/python3.10/dist-packages (from requests>=2.20->openai==0.28) (2024.2.2)\n",
            "Requirement already satisfied: aiosignal>=1.1.2 in /usr/local/lib/python3.10/dist-packages (from aiohttp->openai==0.28) (1.3.1)\n",
            "Requirement already satisfied: attrs>=17.3.0 in /usr/local/lib/python3.10/dist-packages (from aiohttp->openai==0.28) (23.2.0)\n",
            "Requirement already satisfied: frozenlist>=1.1.1 in /usr/local/lib/python3.10/dist-packages (from aiohttp->openai==0.28) (1.4.1)\n",
            "Requirement already satisfied: multidict<7.0,>=4.5 in /usr/local/lib/python3.10/dist-packages (from aiohttp->openai==0.28) (6.0.5)\n",
            "Requirement already satisfied: yarl<2.0,>=1.0 in /usr/local/lib/python3.10/dist-packages (from aiohttp->openai==0.28) (1.9.4)\n",
            "Requirement already satisfied: async-timeout<5.0,>=4.0 in /usr/local/lib/python3.10/dist-packages (from aiohttp->openai==0.28) (4.0.3)\n"
          ]
        }
      ],
      "source": [
        "# ChatCompletion API available in 2.8\n",
        "!pip install openai==0.28"
      ]
    },
    {
      "cell_type": "code",
      "execution_count": null,
      "metadata": {
        "id": "zLO-KgliF9Eq"
      },
      "outputs": [],
      "source": [
        "import pandas as pd\n",
        "def analyze_review(review):\n",
        "    # Set the number of retries to 3\n",
        "    retries = 3\n",
        "    sentiment = None\n",
        "\n",
        "    # Send a prompt to the model to classify sentiment as positive, negative or neutral\n",
        "\n",
        "    while retries > 0:\n",
        "        messages = [\n",
        "            {\"role\": \"system\", \"content\": \"You are an AI language model trained to analyze and detect the sentiment of product reviews.\"},\n",
        "            {\"role\": \"user\", \"content\": f\"Analyze the following product review and determine if the sentiment is: positive, negative or neutral. Return only a single word, either POSITIVE, NEGATIVE or NEUTRAL: {review}\"}\n",
        "        ]\n",
        "\n",
        "        completion = openai.ChatCompletion.create(\n",
        "            model=\"gpt-3.5-turbo\",\n",
        "            messages=messages,\n",
        "            max_tokens=3,\n",
        "            n=1,\n",
        "            stop=None,\n",
        "            temperature=0\n",
        "        )\n",
        "\n",
        "        response_text = completion.choices[0].message.content\n",
        "        print(response_text)\n",
        "        if response_text in [\"POSITIVE\", \"NEGATIVE\", \"NEUTRAL\"]:\n",
        "            sentiment = response_text\n",
        "            break\n",
        "        else:\n",
        "            retries -= 1\n",
        "            time.sleep(1)\n",
        "    else:\n",
        "        sentiment = \"neutral\"\n",
        "\n",
        "    retries = 3\n",
        "\n",
        "    # add a delay of 4 seconds between requests to avoid hitting the openai free tier API call rate limit\n",
        "\n",
        "    time.sleep(4)\n",
        "\n",
        "    return sentiment\n",
        "\n",
        "\n",
        "# Read the input Excel file containing user reviews\n",
        "input_file = \"reviews.csv\"\n",
        "df = pd.read_csv(input_file)\n",
        "\n",
        "# Set the batch size to 500\n",
        "batch_size = 500\n",
        "batches = len(df) // batch_size\n",
        "\n",
        "# Iterates over each batch to analyze reviews\n",
        "for i in range(batches):\n",
        "\n",
        "  start = i * batch_size\n",
        "  end = start + batch_size\n",
        "  batch_df = df[start:end]\n",
        "\n",
        "  # Analyze the reviews and store the results\n",
        "  sentiments = []\n",
        "  # Analyzes each review in the batch by calling analyze_review()\n",
        "  for review in tqdm(batch_df[\"review\"], desc=\"Processing reviews\"):\n",
        "    sentiment = analyze_review(review)\n",
        "    sentiments.append(sentiment)\n",
        "\n",
        "  # Adds the sentiments list as a column in the batch DataFrame\n",
        "  batch_df[\"sentiment\"] = sentiments\n",
        "\n",
        "  # Save the results to a new Excel file\n",
        "  output_file = f\"reviews_analyzed_{i}.xlsx\"\n",
        "  batch_df.to_excel(output_file, index=False)\n",
        "\n",
        "  # Write batch results to Word doc\n",
        "  doc = docx.Document()\n",
        "  table = doc.add_table(rows=1, cols=2)\n",
        "  header_cells = table.rows[0].cells\n",
        "  header_cells[0].text = \"Review\"\n",
        "  header_cells[1].text = \"Sentiment\"\n",
        "\n",
        "  for idx, row in batch_df.iterrows():\n",
        "    row_cells = table.add_row().cells\n",
        "    row_cells[0].text = row[\"review\"]\n",
        "    row_cells[1].text = row[\"sentiment\"]\n",
        "\n",
        "  doc.save(f\"batch_{i}.docx\")\n",
        "\n",
        "  # Delete batch DataFrame to conserve memory\n",
        "  del batch_df\n",
        "\n",
        "  # 300 second pause between batches\n",
        "  time.sleep(300)\n"
      ]
    },
    {
      "cell_type": "code",
      "execution_count": null,
      "metadata": {
        "id": "MxosWScV39Q1"
      },
      "outputs": [],
      "source": []
    },
    {
      "cell_type": "code",
      "execution_count": null,
      "metadata": {
        "id": "2LsrPm1BxkJE"
      },
      "outputs": [],
      "source": []
    },
    {
      "cell_type": "code",
      "execution_count": null,
      "metadata": {
        "id": "K85Hn09gNonw"
      },
      "outputs": [],
      "source": []
    },
    {
      "cell_type": "code",
      "execution_count": null,
      "metadata": {},
      "outputs": [],
      "source": []
    }
  ],
  "metadata": {
    "colab": {
      "provenance": []
    },
    "kernelspec": {
      "display_name": "Python 3",
      "name": "python3"
    },
    "language_info": {
      "name": "python"
    }
  },
  "nbformat": 4,
  "nbformat_minor": 0
}
